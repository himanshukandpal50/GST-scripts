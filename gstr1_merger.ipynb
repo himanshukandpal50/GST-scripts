{
 "cells": [
  {
   "cell_type": "code",
   "execution_count": 1,
   "metadata": {},
   "outputs": [],
   "source": [
    "import pandas as pd\n",
    "import numpy as np\n",
    "import os"
   ]
  },
  {
   "cell_type": "code",
   "execution_count": 2,
   "metadata": {},
   "outputs": [],
   "source": [
    "pd.set_option('display.float_format', '{:.2f}'.format)"
   ]
  },
  {
   "cell_type": "code",
   "execution_count": 3,
   "metadata": {},
   "outputs": [
    {
     "data": {
      "text/plain": [
       "['22ABBCS5016R1Z6_2-2020_GSTR1_Excel_Download_1.xlsx',\n",
       " '22ABBCS5016R1Z6_3-2020_GSTR1_Excel_Download_1.xlsx',\n",
       " '22ABBCS5016R1Z6_1-2020_GSTR1_Excel_Download_1.xlsx',\n",
       " 'gstr1_merger.ipynb',\n",
       " '.ipynb_checkpoints']"
      ]
     },
     "execution_count": 3,
     "metadata": {},
     "output_type": "execute_result"
    }
   ],
   "source": [
    "os.listdir()"
   ]
  },
  {
   "cell_type": "code",
   "execution_count": 8,
   "metadata": {},
   "outputs": [],
   "source": [
    "def gstr1_merge(filepath, SHEET_NAME = \"B2B\"):\n",
    "    \n",
    "    #change the current working directory\n",
    "    os.chdir(filepath)\n",
    "    print(os.listdir())\n",
    "    column_index = [\"GSTIN/ UIN of Recipient\",\"Invoice No.\", \"Invoice Date\", \"Invoice Value\", \n",
    "                        \"Rate%\",\"Taxable Val\" , \"IGST\", \"CGST\", \"SGST\", \"Cess\"]\n",
    "    \n",
    "    #create a blank DataFrame with 10 columns\n",
    "    merged_data = pd.DataFrame(pd.np.empty((0,10)))\n",
    "    column_index = [\"GSTIN/ UIN of Recipient\",\"Invoice No.\", \"Invoice Date\", \"Invoice Value\", \n",
    "                        \"Rate%\",\"Taxable Val\" , \"IGST\", \"CGST\", \"SGST\", \"Cess\"]\n",
    "    merged_data.columns = column_index\n",
    "    \n",
    "    file_list = sorted(os.listdir(filepath))\n",
    "    \n",
    "    for file in os.listdir(filepath):\n",
    "        print(\"Processing .... {} \".format(file))\n",
    "        \n",
    "        # Read the file\n",
    "        data = pd.read_excel(file, sheet_name = SHEET_NAME, parse_dates= True )\n",
    "        \n",
    "        # Drop unwanted rows and columns\n",
    "        data.drop(data.columns[10:15], axis = 1, inplace = True)\n",
    "        data.drop(index = 0, inplace  = True)\n",
    "        data = data[:-1]\n",
    "        \n",
    "        # Set the columns\n",
    "        data.columns = column_index\n",
    "        \n",
    "        # Concatenate into main merged_data sheet\n",
    "        merged_data = pd.concat([merged_data, data], axis = 0)\n",
    "    print(filepath)    \n",
    "    merged_data.to_excel('merged_data.xlsx')"
   ]
  },
  {
   "cell_type": "code",
   "execution_count": 10,
   "metadata": {},
   "outputs": [
    {
     "name": "stdout",
     "output_type": "stream",
     "text": [
      "['27ABBCS5016R1ZW_11-2019_GSTR1_Excel_Download_1.xlsx', '27ABBCS5016R1ZW_4-2019_GSTR1_Excel_Download.xlsx', '27ABBCS5016R1ZW_5-2019_GSTR1_Excel_Download.xlsx', '27ABBCS5016R1ZW_6-2019_GSTR1_Excel_Download_1.xlsx', '27ABBCS5016R1ZW_7-2019_GSTR1_Excel_Download_1.xlsx', '27ABBCS5016R1ZW_8-2019_GSTR1_Excel_Download_1.xlsx', '27ABBCS5016R1ZW_9-2019_GSTR1_Excel_Download_1.xlsx', '27ABBCS5016R1ZW_10-2019_GSTR1_Excel_Download_1.xlsx']\n",
      "Processing .... 27ABBCS5016R1ZW_11-2019_GSTR1_Excel_Download_1.xlsx \n",
      "Processing .... 27ABBCS5016R1ZW_4-2019_GSTR1_Excel_Download.xlsx \n",
      "Processing .... 27ABBCS5016R1ZW_5-2019_GSTR1_Excel_Download.xlsx \n",
      "Processing .... 27ABBCS5016R1ZW_6-2019_GSTR1_Excel_Download_1.xlsx \n",
      "Processing .... 27ABBCS5016R1ZW_7-2019_GSTR1_Excel_Download_1.xlsx \n",
      "Processing .... 27ABBCS5016R1ZW_8-2019_GSTR1_Excel_Download_1.xlsx \n",
      "Processing .... 27ABBCS5016R1ZW_9-2019_GSTR1_Excel_Download_1.xlsx \n",
      "Processing .... 27ABBCS5016R1ZW_10-2019_GSTR1_Excel_Download_1.xlsx \n",
      "E:\\spartacus\\mumbai\\gstr_1\n"
     ]
    }
   ],
   "source": [
    "gstr1_merge(filepath = 'E:\\spartacus\\mumbai\\gstr_1')"
   ]
  },
  {
   "cell_type": "code",
   "execution_count": null,
   "metadata": {},
   "outputs": [],
   "source": [
    "c = pd.read_excel(\"sample.xlsx\")"
   ]
  },
  {
   "cell_type": "code",
   "execution_count": null,
   "metadata": {},
   "outputs": [],
   "source": [
    "c"
   ]
  },
  {
   "cell_type": "code",
   "execution_count": null,
   "metadata": {},
   "outputs": [],
   "source": [
    "from sklearn.linear_model import LinearRegression"
   ]
  },
  {
   "cell_type": "code",
   "execution_count": null,
   "metadata": {},
   "outputs": [],
   "source": [
    "fits = LinearRegression()"
   ]
  },
  {
   "cell_type": "code",
   "execution_count": null,
   "metadata": {},
   "outputs": [],
   "source": [
    "X = c.iloc[:, :2]\n",
    "y = c.iloc[:,2]"
   ]
  },
  {
   "cell_type": "code",
   "execution_count": null,
   "metadata": {},
   "outputs": [],
   "source": [
    "X"
   ]
  },
  {
   "cell_type": "code",
   "execution_count": null,
   "metadata": {},
   "outputs": [],
   "source": [
    "fits.fit(X,y)"
   ]
  },
  {
   "cell_type": "code",
   "execution_count": null,
   "metadata": {},
   "outputs": [],
   "source": [
    "fits.coef_"
   ]
  },
  {
   "cell_type": "code",
   "execution_count": null,
   "metadata": {},
   "outputs": [],
   "source": [
    "c.corr()"
   ]
  },
  {
   "cell_type": "code",
   "execution_count": null,
   "metadata": {},
   "outputs": [],
   "source": [
    "1 - (199/200)**5 "
   ]
  },
  {
   "cell_type": "code",
   "execution_count": null,
   "metadata": {},
   "outputs": [],
   "source": []
  }
 ],
 "metadata": {
  "kernelspec": {
   "display_name": "Python 3",
   "language": "python",
   "name": "python3"
  },
  "language_info": {
   "codemirror_mode": {
    "name": "ipython",
    "version": 3
   },
   "file_extension": ".py",
   "mimetype": "text/x-python",
   "name": "python",
   "nbconvert_exporter": "python",
   "pygments_lexer": "ipython3",
   "version": "3.7.7"
  }
 },
 "nbformat": 4,
 "nbformat_minor": 4
}
