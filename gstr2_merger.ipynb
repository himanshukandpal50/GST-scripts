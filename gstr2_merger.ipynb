{
 "cells": [
  {
   "cell_type": "code",
   "execution_count": 1,
   "metadata": {},
   "outputs": [],
   "source": [
    "import pandas as pd\n",
    "import numpy as np\n",
    "import os"
   ]
  },
  {
   "cell_type": "code",
   "execution_count": 2,
   "metadata": {},
   "outputs": [],
   "source": [
    "pd.set_option('display.float_format', '{:.2f}'.format)"
   ]
  },
  {
   "cell_type": "code",
   "execution_count": 36,
   "metadata": {},
   "outputs": [],
   "source": [
    "def gstr2_merge(filepath, SHEET_NAME = \"B2B\"):\n",
    "    \n",
    "    #change the current working directory\n",
    "    os.chdir(filepath)\n",
    "    print(os.listdir())\n",
    "    \n",
    "    \n",
    "    #create a blank DataFrame with 10 columns\n",
    "    merged_data = pd.DataFrame(pd.np.empty((0,12)))\n",
    "    column_index = ['GSTIN of supplier','Legal name of supplier', 'Invoice No.', 'Invoice date',\n",
    "                'Invoice Value', 'Rate','Taxable Value','IGST', 'CGST', 'SGST', 'Cess','Total ITC']\n",
    "    merged_data.columns = column_index\n",
    "    \n",
    "    file_list = sorted(os.listdir(filepath))\n",
    "    \n",
    "    for file in file_list:\n",
    "        print(\"Processing .... {} \".format(file))\n",
    "        \n",
    "        # Read the file\n",
    "        data = pd.read_excel(file, sheet_name = SHEET_NAME, parse_dates= True )\n",
    "        \n",
    "        # Drop unwanted rows and columns\n",
    "        \n",
    "        data.drop(index=[0,1,2,3,4,5], inplace = True)\n",
    "        data.drop(data.columns[[2,6,13,14,15]],axis = 1,inplace = True)\n",
    "        data.dropna(axis=0, how = 'all', inplace = True)\n",
    "        \n",
    "        # Adds a field of total ITC\n",
    "        data['Total ITC'] = data.iloc[:,7] + data.iloc[:,8] + data.iloc[:,9] + data.iloc[:,10]\n",
    "        \n",
    "        # Set the columns\n",
    "        data.columns = column_index\n",
    "        \n",
    "        # Handle the missing GSTIN and TRADE NAME fields\n",
    "        data.fillna(method='pad',inplace = True)\n",
    "        \n",
    "        #reset the index of the DF\n",
    "        data.reset_index(drop = True, inplace = True)\n",
    "        \n",
    "        # Concatenate into main merged_data sheet\n",
    "        merged_data = pd.concat([merged_data, data], axis = 0)\n",
    "#     print(filepath) \n",
    "    merged_data['Invoice date'] = pd.to_datetime(merged_data['Invoice date'], format = '%d-%m-%Y').dt.date\n",
    "#     print(merged_data['Invoice date'].dtypes)\n",
    "    merged_data.sort_values(by = 'Invoice date', inplace = True, ascending = True)\n",
    "    merged_data.reset_index(drop = True, inplace= True)\n",
    "    merged_data.to_excel('merged_data.xlsx')"
   ]
  },
  {
   "cell_type": "code",
   "execution_count": 37,
   "metadata": {},
   "outputs": [
    {
     "name": "stdout",
     "output_type": "stream",
     "text": [
      "['22ACHFS9329P1ZG_122018_.xlsx', '22ACHFS9329P1ZG_12019_.xlsx', '22ACHFS9329P1ZG_22019_.xlsx', '22ACHFS9329P1ZG_32019_.xlsx', '22ACHFS9329P1ZG_42018_.xlsx', '22ACHFS9329P1ZG_52018_.xlsx', '22ACHFS9329P1ZG_62018_.xlsx', '22ACHFS9329P1ZG_72018_.xlsx', '22ACHFS9329P1ZG_82018_.xlsx', '22ACHFS9329P1ZG_92018_.xlsx', '22ACHFS9329P1ZG_102018_.xlsx', '22ACHFS9329P1ZG_112018_.xlsx']\n",
      "Processing .... 22ACHFS9329P1ZG_102018_.xlsx \n",
      "Processing .... 22ACHFS9329P1ZG_112018_.xlsx \n",
      "Processing .... 22ACHFS9329P1ZG_12019_.xlsx \n",
      "Processing .... 22ACHFS9329P1ZG_122018_.xlsx \n",
      "Processing .... 22ACHFS9329P1ZG_22019_.xlsx \n",
      "Processing .... 22ACHFS9329P1ZG_32019_.xlsx \n",
      "Processing .... 22ACHFS9329P1ZG_42018_.xlsx \n",
      "Processing .... 22ACHFS9329P1ZG_52018_.xlsx \n",
      "Processing .... 22ACHFS9329P1ZG_62018_.xlsx \n",
      "Processing .... 22ACHFS9329P1ZG_72018_.xlsx \n",
      "Processing .... 22ACHFS9329P1ZG_82018_.xlsx \n",
      "Processing .... 22ACHFS9329P1ZG_92018_.xlsx \n"
     ]
    }
   ],
   "source": [
    "gstr2_merge(r'E:\\shivam metallics\\shivammetallics2a\\2018-19')"
   ]
  },
  {
   "cell_type": "code",
   "execution_count": null,
   "metadata": {},
   "outputs": [],
   "source": []
  },
  {
   "cell_type": "code",
   "execution_count": null,
   "metadata": {},
   "outputs": [],
   "source": []
  },
  {
   "cell_type": "code",
   "execution_count": null,
   "metadata": {},
   "outputs": [],
   "source": [
    "# data = pd.read_excel('sample2A.xlsx',sheet_name='B2B',parse_dates= True)"
   ]
  },
  {
   "cell_type": "code",
   "execution_count": null,
   "metadata": {},
   "outputs": [],
   "source": [
    "# data.drop(data.columns[[2,6,13,14,15]],axis = 1,inplace = True)\n"
   ]
  },
  {
   "cell_type": "code",
   "execution_count": null,
   "metadata": {},
   "outputs": [],
   "source": [
    "# column_index = ['GSTIN of supplier','Legal name of supplier', 'Invoice No.', 'Invoice date',\n",
    "#                 'Invoice Value', 'Rate','Taxable Value','IGST', 'CGST', 'SGST', 'Cess']"
   ]
  },
  {
   "cell_type": "code",
   "execution_count": null,
   "metadata": {},
   "outputs": [],
   "source": [
    "# data.drop(index=[0,1,2,3,4,5], inplace = True)"
   ]
  },
  {
   "cell_type": "code",
   "execution_count": null,
   "metadata": {},
   "outputs": [],
   "source": [
    "# data.columns = column_index"
   ]
  },
  {
   "cell_type": "code",
   "execution_count": null,
   "metadata": {},
   "outputs": [],
   "source": [
    "# data.dropna(axis=0, how = 'all', inplace = True)"
   ]
  },
  {
   "cell_type": "code",
   "execution_count": null,
   "metadata": {},
   "outputs": [],
   "source": [
    "# data.fillna(method='pad',inplace = True)\n",
    "# data.reset_index(drop = True, inplace = True)"
   ]
  },
  {
   "cell_type": "code",
   "execution_count": null,
   "metadata": {},
   "outputs": [],
   "source": [
    "# data.to_excel('beta.xlsx')"
   ]
  },
  {
   "cell_type": "code",
   "execution_count": null,
   "metadata": {},
   "outputs": [],
   "source": []
  }
 ],
 "metadata": {
  "kernelspec": {
   "display_name": "Python 3",
   "language": "python",
   "name": "python3"
  },
  "language_info": {
   "codemirror_mode": {
    "name": "ipython",
    "version": 3
   },
   "file_extension": ".py",
   "mimetype": "text/x-python",
   "name": "python",
   "nbconvert_exporter": "python",
   "pygments_lexer": "ipython3",
   "version": "3.7.7"
  }
 },
 "nbformat": 4,
 "nbformat_minor": 4
}
